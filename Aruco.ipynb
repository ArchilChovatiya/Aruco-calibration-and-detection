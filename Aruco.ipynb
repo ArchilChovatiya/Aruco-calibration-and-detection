{
 "cells": [
  {
   "cell_type": "code",
   "execution_count": 1,
   "metadata": {
    "colab": {},
    "colab_type": "code",
    "id": "2ImMN2OJBd5u"
   },
   "outputs": [],
   "source": [
    "import numpy as np\n",
    "import pickle as pkl\n",
    "import cv2, PIL, os\n",
    "from cv2 import aruco\n",
    "from mpl_toolkits.mplot3d import Axes3D\n",
    "import matplotlib.pyplot as plt\n",
    "import matplotlib as mpl\n",
    "import pandas as pd\n",
    "from scipy.spatial.transform import Rotation as R\n",
    "%matplotlib nbagg"
   ]
  },
  {
   "cell_type": "code",
   "execution_count": 2,
   "metadata": {},
   "outputs": [],
   "source": [
    "mtx=np.load('datacalib_mtx_webcam.pkl', allow_pickle=True)\n",
    "dist=np.load('datacalib_dist_webcam.pkl', allow_pickle=True)"
   ]
  },
  {
   "cell_type": "code",
   "execution_count": 5,
   "metadata": {},
   "outputs": [],
   "source": [
    "size_of_marker =  0.0145\n",
    "length_of_axis = 0.01\n",
    "aruco_dict = aruco.Dictionary_get(aruco.DICT_6X6_250)\n",
    "parameters =  aruco.DetectorParameters_create()\n",
    "#fourcc = cv2.VideoWriter_fourcc(*'XVID')\n",
    "#out = cv2.VideoWriter('output.avi',fourcc, 20.0, (640,480))\n",
    "cap = cv2.VideoCapture(1)\n",
    "while(True):\n",
    "    ret, frame = cap.read()\n",
    "    gray = cv2.cvtColor(frame, cv2.COLOR_BGR2GRAY)\n",
    "    corners, ids, rejectedImgPoints = aruco.detectMarkers(gray, aruco_dict, parameters=parameters)\n",
    "    frame_markers = aruco.drawDetectedMarkers(frame.copy(), corners, ids)\n",
    "    rvecs,tvecs,trash = aruco.estimatePoseSingleMarkers(corners, size_of_marker , mtx, dist)\n",
    "    imaxis = aruco.drawDetectedMarkers(frame.copy(), corners, ids)\n",
    "    if tvecs is not None:\n",
    "        for i in range(len(tvecs)):\n",
    "            imaxis = aruco.drawAxis(imaxis, mtx, dist, rvecs[i], tvecs[i], length_of_axis)\n",
    "            rvec=np.squeeze(rvecs[0], axis=None)\n",
    "            tvec=np.squeeze(tvecs[0], axis=None)\n",
    "            tvec=np.expand_dims(tvec, axis=1)\n",
    "            rvec_matrix = cv2.Rodrigues(rvec)[0]\n",
    "            proj_matrix = np.hstack((rvec_matrix,tvec))\n",
    "            euler_angles = cv2.decomposeProjectionMatrix(proj_matrix)[6]\n",
    "            cv2.putText(imaxis, 'X: '+str(int(euler_angles[0])),(20, 30),cv2.FONT_HERSHEY_COMPLEX_SMALL,1.5,(0,0,255))\n",
    "            cv2.putText(imaxis, 'Y: '+str(int(euler_angles[1])),(170, 30),cv2.FONT_HERSHEY_COMPLEX_SMALL,1.5,(0,255,0))\n",
    "            cv2.putText(imaxis, 'Z: '+str(int(euler_angles[2])),(320, 30),cv2.FONT_HERSHEY_COMPLEX_SMALL,1.5,(255,0,0))\n",
    "    cv2.imshow('Aruco',imaxis)\n",
    "    #out.write(imaxis)\n",
    "    if cv2.waitKey(1) & 0xFF == ord('q'):\n",
    "        break\n",
    "cap.release()\n",
    "cv2.destroyAllWindows()"
   ]
  },
  {
   "cell_type": "code",
   "execution_count": null,
   "metadata": {},
   "outputs": [],
   "source": []
  }
 ],
 "metadata": {
  "accelerator": "GPU",
  "colab": {
   "collapsed_sections": [],
   "name": "Aruco.ipynb",
   "provenance": []
  },
  "kernelspec": {
   "display_name": "Python 3",
   "language": "python",
   "name": "python3"
  },
  "language_info": {
   "codemirror_mode": {
    "name": "ipython",
    "version": 3
   },
   "file_extension": ".py",
   "mimetype": "text/x-python",
   "name": "python",
   "nbconvert_exporter": "python",
   "pygments_lexer": "ipython3",
   "version": "3.7.9"
  }
 },
 "nbformat": 4,
 "nbformat_minor": 1
}
